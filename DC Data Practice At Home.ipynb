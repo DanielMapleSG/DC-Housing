{
 "cells": [
  {
   "cell_type": "code",
   "execution_count": 1,
   "metadata": {},
   "outputs": [],
   "source": [
    "import pandas as pd\n",
    "\n",
    "#preprocessing functions will be used to standardize/normalize data\n",
    "from sklearn import preprocessing\n",
    "from sklearn.preprocessing import StandardScaler\n",
    "from sklearn.preprocessing import MinMaxScaler\n",
    "\n",
    "%matplotlib inline"
   ]
  },
  {
   "cell_type": "code",
   "execution_count": 2,
   "metadata": {},
   "outputs": [
    {
     "name": "stderr",
     "output_type": "stream",
     "text": [
      "C:\\Users\\kenbe\\Anaconda3\\lib\\site-packages\\IPython\\core\\interactiveshell.py:3020: DtypeWarning: Columns (18,19,20,21,22,23,24,33,34,35,37,43,45) have mixed types. Specify dtype option on import or set low_memory=False.\n",
      "  interactivity=interactivity, compiler=compiler, result=result)\n"
     ]
    },
    {
     "data": {
      "text/html": [
       "<div>\n",
       "<style scoped>\n",
       "    .dataframe tbody tr th:only-of-type {\n",
       "        vertical-align: middle;\n",
       "    }\n",
       "\n",
       "    .dataframe tbody tr th {\n",
       "        vertical-align: top;\n",
       "    }\n",
       "\n",
       "    .dataframe thead th {\n",
       "        text-align: right;\n",
       "    }\n",
       "</style>\n",
       "<table border=\"1\" class=\"dataframe\">\n",
       "  <thead>\n",
       "    <tr style=\"text-align: right;\">\n",
       "      <th></th>\n",
       "      <th>Unnamed: 0</th>\n",
       "      <th>BATHRM</th>\n",
       "      <th>HF_BATHRM</th>\n",
       "      <th>HEAT</th>\n",
       "      <th>AC</th>\n",
       "      <th>NUM_UNITS</th>\n",
       "      <th>ROOMS</th>\n",
       "      <th>BEDRM</th>\n",
       "      <th>AYB</th>\n",
       "      <th>YR_RMDL</th>\n",
       "      <th>...</th>\n",
       "      <th>LONGITUDE</th>\n",
       "      <th>ASSESSMENT_NBHD</th>\n",
       "      <th>ASSESSMENT_SUBNBHD</th>\n",
       "      <th>CENSUS_TRACT</th>\n",
       "      <th>CENSUS_BLOCK</th>\n",
       "      <th>WARD</th>\n",
       "      <th>SQUARE</th>\n",
       "      <th>X</th>\n",
       "      <th>Y</th>\n",
       "      <th>QUADRANT</th>\n",
       "    </tr>\n",
       "  </thead>\n",
       "  <tbody>\n",
       "    <tr>\n",
       "      <th>0</th>\n",
       "      <td>0</td>\n",
       "      <td>4</td>\n",
       "      <td>0</td>\n",
       "      <td>Warm Cool</td>\n",
       "      <td>Y</td>\n",
       "      <td>2.0</td>\n",
       "      <td>8</td>\n",
       "      <td>4</td>\n",
       "      <td>1910.0</td>\n",
       "      <td>1988.0</td>\n",
       "      <td>...</td>\n",
       "      <td>-77.040832</td>\n",
       "      <td>Old City 2</td>\n",
       "      <td>040 D Old City 2</td>\n",
       "      <td>4201.0</td>\n",
       "      <td>004201 2006</td>\n",
       "      <td>Ward 2</td>\n",
       "      <td>152</td>\n",
       "      <td>-77.040429</td>\n",
       "      <td>38.914881</td>\n",
       "      <td>NW</td>\n",
       "    </tr>\n",
       "    <tr>\n",
       "      <th>1</th>\n",
       "      <td>1</td>\n",
       "      <td>3</td>\n",
       "      <td>1</td>\n",
       "      <td>Warm Cool</td>\n",
       "      <td>Y</td>\n",
       "      <td>2.0</td>\n",
       "      <td>11</td>\n",
       "      <td>5</td>\n",
       "      <td>1898.0</td>\n",
       "      <td>2007.0</td>\n",
       "      <td>...</td>\n",
       "      <td>-77.040764</td>\n",
       "      <td>Old City 2</td>\n",
       "      <td>040 D Old City 2</td>\n",
       "      <td>4201.0</td>\n",
       "      <td>004201 2006</td>\n",
       "      <td>Ward 2</td>\n",
       "      <td>152</td>\n",
       "      <td>-77.040429</td>\n",
       "      <td>38.914881</td>\n",
       "      <td>NW</td>\n",
       "    </tr>\n",
       "    <tr>\n",
       "      <th>2</th>\n",
       "      <td>2</td>\n",
       "      <td>3</td>\n",
       "      <td>1</td>\n",
       "      <td>Hot Water Rad</td>\n",
       "      <td>Y</td>\n",
       "      <td>2.0</td>\n",
       "      <td>9</td>\n",
       "      <td>5</td>\n",
       "      <td>1910.0</td>\n",
       "      <td>2009.0</td>\n",
       "      <td>...</td>\n",
       "      <td>-77.040678</td>\n",
       "      <td>Old City 2</td>\n",
       "      <td>040 D Old City 2</td>\n",
       "      <td>4201.0</td>\n",
       "      <td>004201 2006</td>\n",
       "      <td>Ward 2</td>\n",
       "      <td>152</td>\n",
       "      <td>-77.040429</td>\n",
       "      <td>38.914881</td>\n",
       "      <td>NW</td>\n",
       "    </tr>\n",
       "    <tr>\n",
       "      <th>3</th>\n",
       "      <td>3</td>\n",
       "      <td>3</td>\n",
       "      <td>1</td>\n",
       "      <td>Hot Water Rad</td>\n",
       "      <td>Y</td>\n",
       "      <td>2.0</td>\n",
       "      <td>8</td>\n",
       "      <td>5</td>\n",
       "      <td>1900.0</td>\n",
       "      <td>2003.0</td>\n",
       "      <td>...</td>\n",
       "      <td>-77.040629</td>\n",
       "      <td>Old City 2</td>\n",
       "      <td>040 D Old City 2</td>\n",
       "      <td>4201.0</td>\n",
       "      <td>004201 2006</td>\n",
       "      <td>Ward 2</td>\n",
       "      <td>152</td>\n",
       "      <td>-77.040429</td>\n",
       "      <td>38.914881</td>\n",
       "      <td>NW</td>\n",
       "    </tr>\n",
       "    <tr>\n",
       "      <th>4</th>\n",
       "      <td>4</td>\n",
       "      <td>2</td>\n",
       "      <td>1</td>\n",
       "      <td>Warm Cool</td>\n",
       "      <td>Y</td>\n",
       "      <td>1.0</td>\n",
       "      <td>11</td>\n",
       "      <td>3</td>\n",
       "      <td>1913.0</td>\n",
       "      <td>2012.0</td>\n",
       "      <td>...</td>\n",
       "      <td>-77.039361</td>\n",
       "      <td>Old City 2</td>\n",
       "      <td>040 D Old City 2</td>\n",
       "      <td>4201.0</td>\n",
       "      <td>004201 2006</td>\n",
       "      <td>Ward 2</td>\n",
       "      <td>152</td>\n",
       "      <td>-77.040429</td>\n",
       "      <td>38.914881</td>\n",
       "      <td>NW</td>\n",
       "    </tr>\n",
       "  </tbody>\n",
       "</table>\n",
       "<p>5 rows × 49 columns</p>\n",
       "</div>"
      ],
      "text/plain": [
       "   Unnamed: 0  BATHRM  HF_BATHRM           HEAT AC  NUM_UNITS  ROOMS  BEDRM  \\\n",
       "0           0       4          0      Warm Cool  Y        2.0      8      4   \n",
       "1           1       3          1      Warm Cool  Y        2.0     11      5   \n",
       "2           2       3          1  Hot Water Rad  Y        2.0      9      5   \n",
       "3           3       3          1  Hot Water Rad  Y        2.0      8      5   \n",
       "4           4       2          1      Warm Cool  Y        1.0     11      3   \n",
       "\n",
       "      AYB  YR_RMDL   ...     LONGITUDE  ASSESSMENT_NBHD ASSESSMENT_SUBNBHD  \\\n",
       "0  1910.0   1988.0   ...    -77.040832       Old City 2   040 D Old City 2   \n",
       "1  1898.0   2007.0   ...    -77.040764       Old City 2   040 D Old City 2   \n",
       "2  1910.0   2009.0   ...    -77.040678       Old City 2   040 D Old City 2   \n",
       "3  1900.0   2003.0   ...    -77.040629       Old City 2   040 D Old City 2   \n",
       "4  1913.0   2012.0   ...    -77.039361       Old City 2   040 D Old City 2   \n",
       "\n",
       "   CENSUS_TRACT CENSUS_BLOCK    WARD  SQUARE          X          Y QUADRANT  \n",
       "0        4201.0  004201 2006  Ward 2     152 -77.040429  38.914881       NW  \n",
       "1        4201.0  004201 2006  Ward 2     152 -77.040429  38.914881       NW  \n",
       "2        4201.0  004201 2006  Ward 2     152 -77.040429  38.914881       NW  \n",
       "3        4201.0  004201 2006  Ward 2     152 -77.040429  38.914881       NW  \n",
       "4        4201.0  004201 2006  Ward 2     152 -77.040429  38.914881       NW  \n",
       "\n",
       "[5 rows x 49 columns]"
      ]
     },
     "execution_count": 2,
     "metadata": {},
     "output_type": "execute_result"
    }
   ],
   "source": [
    "filepath = \"datasets/DC_Properties.csv\"\n",
    "\n",
    "pima_df = pd.read_csv(filepath)\n",
    "pima_df.head()"
   ]
  },
  {
   "cell_type": "code",
   "execution_count": 3,
   "metadata": {},
   "outputs": [
    {
     "data": {
      "text/plain": [
       "Unnamed: 0            158957\n",
       "BATHRM                158957\n",
       "HF_BATHRM             158957\n",
       "HEAT                  158957\n",
       "AC                    158957\n",
       "NUM_UNITS             106696\n",
       "ROOMS                 158957\n",
       "BEDRM                 158957\n",
       "AYB                   158686\n",
       "YR_RMDL                80928\n",
       "EYB                   158957\n",
       "STORIES               106652\n",
       "SALEDATE              132187\n",
       "PRICE                  98216\n",
       "QUALIFIED             158957\n",
       "SALE_NUM              158957\n",
       "GBA                   106696\n",
       "BLDG_NUM              158957\n",
       "STYLE                 106696\n",
       "STRUCT                106696\n",
       "GRADE                 106696\n",
       "CNDTN                 106696\n",
       "EXTWALL               106696\n",
       "ROOF                  106696\n",
       "INTWALL               106696\n",
       "KITCHENS              106695\n",
       "FIREPLACES            158957\n",
       "USECODE               158957\n",
       "LANDAREA              158957\n",
       "GIS_LAST_MOD_DTTM     158957\n",
       "SOURCE                158957\n",
       "CMPLX_NUM              52261\n",
       "LIVING_GBA             52261\n",
       "FULLADDRESS           106040\n",
       "CITY                  106051\n",
       "STATE                 106051\n",
       "ZIPCODE               158956\n",
       "NATIONALGRID          106051\n",
       "LATITUDE              158956\n",
       "LONGITUDE             158956\n",
       "ASSESSMENT_NBHD       158956\n",
       "ASSESSMENT_SUBNBHD    126406\n",
       "CENSUS_TRACT          158956\n",
       "CENSUS_BLOCK          106051\n",
       "WARD                  158956\n",
       "SQUARE                158957\n",
       "X                     158720\n",
       "Y                     158720\n",
       "QUADRANT              158720\n",
       "dtype: int64"
      ]
     },
     "execution_count": 3,
     "metadata": {},
     "output_type": "execute_result"
    }
   ],
   "source": [
    "pima_df.count()"
   ]
  },
  {
   "cell_type": "code",
   "execution_count": 4,
   "metadata": {},
   "outputs": [
    {
     "data": {
      "text/html": [
       "<div>\n",
       "<style scoped>\n",
       "    .dataframe tbody tr th:only-of-type {\n",
       "        vertical-align: middle;\n",
       "    }\n",
       "\n",
       "    .dataframe tbody tr th {\n",
       "        vertical-align: top;\n",
       "    }\n",
       "\n",
       "    .dataframe thead th {\n",
       "        text-align: right;\n",
       "    }\n",
       "</style>\n",
       "<table border=\"1\" class=\"dataframe\">\n",
       "  <thead>\n",
       "    <tr style=\"text-align: right;\">\n",
       "      <th></th>\n",
       "      <th>Unnamed: 0</th>\n",
       "      <th>BATHRM</th>\n",
       "      <th>HF_BATHRM</th>\n",
       "      <th>NUM_UNITS</th>\n",
       "      <th>ROOMS</th>\n",
       "      <th>BEDRM</th>\n",
       "      <th>AYB</th>\n",
       "      <th>YR_RMDL</th>\n",
       "      <th>EYB</th>\n",
       "      <th>STORIES</th>\n",
       "      <th>...</th>\n",
       "      <th>USECODE</th>\n",
       "      <th>LANDAREA</th>\n",
       "      <th>CMPLX_NUM</th>\n",
       "      <th>LIVING_GBA</th>\n",
       "      <th>ZIPCODE</th>\n",
       "      <th>LATITUDE</th>\n",
       "      <th>LONGITUDE</th>\n",
       "      <th>CENSUS_TRACT</th>\n",
       "      <th>X</th>\n",
       "      <th>Y</th>\n",
       "    </tr>\n",
       "  </thead>\n",
       "  <tbody>\n",
       "    <tr>\n",
       "      <th>count</th>\n",
       "      <td>158957.000000</td>\n",
       "      <td>158957.000000</td>\n",
       "      <td>158957.000000</td>\n",
       "      <td>106696.000000</td>\n",
       "      <td>158957.000000</td>\n",
       "      <td>158957.000000</td>\n",
       "      <td>158686.000000</td>\n",
       "      <td>80928.000000</td>\n",
       "      <td>158957.000000</td>\n",
       "      <td>106652.000000</td>\n",
       "      <td>...</td>\n",
       "      <td>158957.000000</td>\n",
       "      <td>158957.000000</td>\n",
       "      <td>52261.000000</td>\n",
       "      <td>52261.000000</td>\n",
       "      <td>158956.000000</td>\n",
       "      <td>158956.000000</td>\n",
       "      <td>158956.000000</td>\n",
       "      <td>158956.000000</td>\n",
       "      <td>158720.000000</td>\n",
       "      <td>158720.000000</td>\n",
       "    </tr>\n",
       "    <tr>\n",
       "      <th>mean</th>\n",
       "      <td>79478.000000</td>\n",
       "      <td>1.810678</td>\n",
       "      <td>0.458237</td>\n",
       "      <td>1.198039</td>\n",
       "      <td>6.187736</td>\n",
       "      <td>2.732506</td>\n",
       "      <td>1941.987579</td>\n",
       "      <td>1998.243537</td>\n",
       "      <td>1963.718024</td>\n",
       "      <td>2.091793</td>\n",
       "      <td>...</td>\n",
       "      <td>14.252999</td>\n",
       "      <td>2473.282158</td>\n",
       "      <td>2371.544249</td>\n",
       "      <td>888.834542</td>\n",
       "      <td>20012.694563</td>\n",
       "      <td>38.914854</td>\n",
       "      <td>-77.016676</td>\n",
       "      <td>5348.216324</td>\n",
       "      <td>-77.016712</td>\n",
       "      <td>38.914846</td>\n",
       "    </tr>\n",
       "    <tr>\n",
       "      <th>std</th>\n",
       "      <td>45887.077707</td>\n",
       "      <td>0.976396</td>\n",
       "      <td>0.587571</td>\n",
       "      <td>0.596924</td>\n",
       "      <td>2.618165</td>\n",
       "      <td>1.358864</td>\n",
       "      <td>33.640234</td>\n",
       "      <td>16.575786</td>\n",
       "      <td>24.923150</td>\n",
       "      <td>2.933323</td>\n",
       "      <td>...</td>\n",
       "      <td>3.725736</td>\n",
       "      <td>5059.046023</td>\n",
       "      <td>1114.272364</td>\n",
       "      <td>420.185822</td>\n",
       "      <td>15.627084</td>\n",
       "      <td>0.031723</td>\n",
       "      <td>0.040938</td>\n",
       "      <td>3369.645953</td>\n",
       "      <td>0.040933</td>\n",
       "      <td>0.031682</td>\n",
       "    </tr>\n",
       "    <tr>\n",
       "      <th>min</th>\n",
       "      <td>0.000000</td>\n",
       "      <td>0.000000</td>\n",
       "      <td>0.000000</td>\n",
       "      <td>0.000000</td>\n",
       "      <td>0.000000</td>\n",
       "      <td>0.000000</td>\n",
       "      <td>1754.000000</td>\n",
       "      <td>20.000000</td>\n",
       "      <td>1800.000000</td>\n",
       "      <td>0.000000</td>\n",
       "      <td>...</td>\n",
       "      <td>11.000000</td>\n",
       "      <td>0.000000</td>\n",
       "      <td>1001.000000</td>\n",
       "      <td>0.000000</td>\n",
       "      <td>20001.000000</td>\n",
       "      <td>38.819731</td>\n",
       "      <td>-77.113909</td>\n",
       "      <td>100.000000</td>\n",
       "      <td>-77.113135</td>\n",
       "      <td>38.820576</td>\n",
       "    </tr>\n",
       "    <tr>\n",
       "      <th>25%</th>\n",
       "      <td>39739.000000</td>\n",
       "      <td>1.000000</td>\n",
       "      <td>0.000000</td>\n",
       "      <td>1.000000</td>\n",
       "      <td>4.000000</td>\n",
       "      <td>2.000000</td>\n",
       "      <td>1918.000000</td>\n",
       "      <td>1985.000000</td>\n",
       "      <td>1954.000000</td>\n",
       "      <td>2.000000</td>\n",
       "      <td>...</td>\n",
       "      <td>11.000000</td>\n",
       "      <td>697.000000</td>\n",
       "      <td>1501.000000</td>\n",
       "      <td>616.000000</td>\n",
       "      <td>20007.000000</td>\n",
       "      <td>38.895425</td>\n",
       "      <td>-77.042892</td>\n",
       "      <td>2102.000000</td>\n",
       "      <td>-77.042894</td>\n",
       "      <td>38.895432</td>\n",
       "    </tr>\n",
       "    <tr>\n",
       "      <th>50%</th>\n",
       "      <td>79478.000000</td>\n",
       "      <td>2.000000</td>\n",
       "      <td>0.000000</td>\n",
       "      <td>1.000000</td>\n",
       "      <td>6.000000</td>\n",
       "      <td>3.000000</td>\n",
       "      <td>1937.000000</td>\n",
       "      <td>2004.000000</td>\n",
       "      <td>1963.000000</td>\n",
       "      <td>2.000000</td>\n",
       "      <td>...</td>\n",
       "      <td>13.000000</td>\n",
       "      <td>1649.000000</td>\n",
       "      <td>2265.000000</td>\n",
       "      <td>783.000000</td>\n",
       "      <td>20011.000000</td>\n",
       "      <td>38.915337</td>\n",
       "      <td>-77.019596</td>\n",
       "      <td>5201.000000</td>\n",
       "      <td>-77.019581</td>\n",
       "      <td>38.915229</td>\n",
       "    </tr>\n",
       "    <tr>\n",
       "      <th>75%</th>\n",
       "      <td>119217.000000</td>\n",
       "      <td>2.000000</td>\n",
       "      <td>1.000000</td>\n",
       "      <td>1.000000</td>\n",
       "      <td>7.000000</td>\n",
       "      <td>3.000000</td>\n",
       "      <td>1960.000000</td>\n",
       "      <td>2010.000000</td>\n",
       "      <td>1975.000000</td>\n",
       "      <td>2.000000</td>\n",
       "      <td>...</td>\n",
       "      <td>17.000000</td>\n",
       "      <td>3000.000000</td>\n",
       "      <td>2910.000000</td>\n",
       "      <td>1060.000000</td>\n",
       "      <td>20018.000000</td>\n",
       "      <td>38.936075</td>\n",
       "      <td>-76.988626</td>\n",
       "      <td>8302.000000</td>\n",
       "      <td>-76.988842</td>\n",
       "      <td>38.936077</td>\n",
       "    </tr>\n",
       "    <tr>\n",
       "      <th>max</th>\n",
       "      <td>158956.000000</td>\n",
       "      <td>14.000000</td>\n",
       "      <td>11.000000</td>\n",
       "      <td>6.000000</td>\n",
       "      <td>48.000000</td>\n",
       "      <td>24.000000</td>\n",
       "      <td>2019.000000</td>\n",
       "      <td>2019.000000</td>\n",
       "      <td>2018.000000</td>\n",
       "      <td>826.000000</td>\n",
       "      <td>...</td>\n",
       "      <td>117.000000</td>\n",
       "      <td>942632.000000</td>\n",
       "      <td>5621.000000</td>\n",
       "      <td>8553.000000</td>\n",
       "      <td>20392.000000</td>\n",
       "      <td>38.995540</td>\n",
       "      <td>-76.909758</td>\n",
       "      <td>11100.000000</td>\n",
       "      <td>-76.910511</td>\n",
       "      <td>38.993646</td>\n",
       "    </tr>\n",
       "  </tbody>\n",
       "</table>\n",
       "<p>8 rows × 26 columns</p>\n",
       "</div>"
      ],
      "text/plain": [
       "          Unnamed: 0         BATHRM      HF_BATHRM      NUM_UNITS  \\\n",
       "count  158957.000000  158957.000000  158957.000000  106696.000000   \n",
       "mean    79478.000000       1.810678       0.458237       1.198039   \n",
       "std     45887.077707       0.976396       0.587571       0.596924   \n",
       "min         0.000000       0.000000       0.000000       0.000000   \n",
       "25%     39739.000000       1.000000       0.000000       1.000000   \n",
       "50%     79478.000000       2.000000       0.000000       1.000000   \n",
       "75%    119217.000000       2.000000       1.000000       1.000000   \n",
       "max    158956.000000      14.000000      11.000000       6.000000   \n",
       "\n",
       "               ROOMS          BEDRM            AYB       YR_RMDL  \\\n",
       "count  158957.000000  158957.000000  158686.000000  80928.000000   \n",
       "mean        6.187736       2.732506    1941.987579   1998.243537   \n",
       "std         2.618165       1.358864      33.640234     16.575786   \n",
       "min         0.000000       0.000000    1754.000000     20.000000   \n",
       "25%         4.000000       2.000000    1918.000000   1985.000000   \n",
       "50%         6.000000       3.000000    1937.000000   2004.000000   \n",
       "75%         7.000000       3.000000    1960.000000   2010.000000   \n",
       "max        48.000000      24.000000    2019.000000   2019.000000   \n",
       "\n",
       "                 EYB        STORIES      ...              USECODE  \\\n",
       "count  158957.000000  106652.000000      ...        158957.000000   \n",
       "mean     1963.718024       2.091793      ...            14.252999   \n",
       "std        24.923150       2.933323      ...             3.725736   \n",
       "min      1800.000000       0.000000      ...            11.000000   \n",
       "25%      1954.000000       2.000000      ...            11.000000   \n",
       "50%      1963.000000       2.000000      ...            13.000000   \n",
       "75%      1975.000000       2.000000      ...            17.000000   \n",
       "max      2018.000000     826.000000      ...           117.000000   \n",
       "\n",
       "            LANDAREA     CMPLX_NUM    LIVING_GBA        ZIPCODE  \\\n",
       "count  158957.000000  52261.000000  52261.000000  158956.000000   \n",
       "mean     2473.282158   2371.544249    888.834542   20012.694563   \n",
       "std      5059.046023   1114.272364    420.185822      15.627084   \n",
       "min         0.000000   1001.000000      0.000000   20001.000000   \n",
       "25%       697.000000   1501.000000    616.000000   20007.000000   \n",
       "50%      1649.000000   2265.000000    783.000000   20011.000000   \n",
       "75%      3000.000000   2910.000000   1060.000000   20018.000000   \n",
       "max    942632.000000   5621.000000   8553.000000   20392.000000   \n",
       "\n",
       "            LATITUDE      LONGITUDE   CENSUS_TRACT              X  \\\n",
       "count  158956.000000  158956.000000  158956.000000  158720.000000   \n",
       "mean       38.914854     -77.016676    5348.216324     -77.016712   \n",
       "std         0.031723       0.040938    3369.645953       0.040933   \n",
       "min        38.819731     -77.113909     100.000000     -77.113135   \n",
       "25%        38.895425     -77.042892    2102.000000     -77.042894   \n",
       "50%        38.915337     -77.019596    5201.000000     -77.019581   \n",
       "75%        38.936075     -76.988626    8302.000000     -76.988842   \n",
       "max        38.995540     -76.909758   11100.000000     -76.910511   \n",
       "\n",
       "                   Y  \n",
       "count  158720.000000  \n",
       "mean       38.914846  \n",
       "std         0.031682  \n",
       "min        38.820576  \n",
       "25%        38.895432  \n",
       "50%        38.915229  \n",
       "75%        38.936077  \n",
       "max        38.993646  \n",
       "\n",
       "[8 rows x 26 columns]"
      ]
     },
     "execution_count": 4,
     "metadata": {},
     "output_type": "execute_result"
    }
   ],
   "source": [
    "pima_df.describe()"
   ]
  },
  {
   "cell_type": "code",
   "execution_count": 5,
   "metadata": {},
   "outputs": [
    {
     "data": {
      "text/plain": [
       "array([[<matplotlib.axes._subplots.AxesSubplot object at 0x000001D2594FE7F0>,\n",
       "        <matplotlib.axes._subplots.AxesSubplot object at 0x000001D25954C2E8>,\n",
       "        <matplotlib.axes._subplots.AxesSubplot object at 0x000001D259575550>,\n",
       "        <matplotlib.axes._subplots.AxesSubplot object at 0x000001D25959C7B8>,\n",
       "        <matplotlib.axes._subplots.AxesSubplot object at 0x000001D2595C49E8>],\n",
       "       [<matplotlib.axes._subplots.AxesSubplot object at 0x000001D2595EDC50>,\n",
       "        <matplotlib.axes._subplots.AxesSubplot object at 0x000001D259617EB8>,\n",
       "        <matplotlib.axes._subplots.AxesSubplot object at 0x000001D259649198>,\n",
       "        <matplotlib.axes._subplots.AxesSubplot object at 0x000001D2596491D0>,\n",
       "        <matplotlib.axes._subplots.AxesSubplot object at 0x000001D25969B630>],\n",
       "       [<matplotlib.axes._subplots.AxesSubplot object at 0x000001D2596C3898>,\n",
       "        <matplotlib.axes._subplots.AxesSubplot object at 0x000001D2596EAB00>,\n",
       "        <matplotlib.axes._subplots.AxesSubplot object at 0x000001D259715D68>,\n",
       "        <matplotlib.axes._subplots.AxesSubplot object at 0x000001D25973EFD0>,\n",
       "        <matplotlib.axes._subplots.AxesSubplot object at 0x000001D25976F278>],\n",
       "       [<matplotlib.axes._subplots.AxesSubplot object at 0x000001D25979A4E0>,\n",
       "        <matplotlib.axes._subplots.AxesSubplot object at 0x000001D2597C1748>,\n",
       "        <matplotlib.axes._subplots.AxesSubplot object at 0x000001D2597EA9B0>,\n",
       "        <matplotlib.axes._subplots.AxesSubplot object at 0x000001D259811C18>,\n",
       "        <matplotlib.axes._subplots.AxesSubplot object at 0x000001D25983DE80>],\n",
       "       [<matplotlib.axes._subplots.AxesSubplot object at 0x000001D25986E128>,\n",
       "        <matplotlib.axes._subplots.AxesSubplot object at 0x000001D259897390>,\n",
       "        <matplotlib.axes._subplots.AxesSubplot object at 0x000001D2598BF5F8>,\n",
       "        <matplotlib.axes._subplots.AxesSubplot object at 0x000001D2598E8860>,\n",
       "        <matplotlib.axes._subplots.AxesSubplot object at 0x000001D259970AC8>],\n",
       "       [<matplotlib.axes._subplots.AxesSubplot object at 0x000001D259999D30>,\n",
       "        <matplotlib.axes._subplots.AxesSubplot object at 0x000001D2599C5F98>,\n",
       "        <matplotlib.axes._subplots.AxesSubplot object at 0x000001D2599F5240>,\n",
       "        <matplotlib.axes._subplots.AxesSubplot object at 0x000001D259A204A8>,\n",
       "        <matplotlib.axes._subplots.AxesSubplot object at 0x000001D259A48710>]],\n",
       "      dtype=object)"
      ]
     },
     "execution_count": 5,
     "metadata": {},
     "output_type": "execute_result"
    },
    {
     "data": {
      "image/png": "[encoded data removed]",
      "text/plain": [
       "<Figure size 720x720 with 30 Axes>"
      ]
     },
     "metadata": {
      "needs_background": "light"
     },
     "output_type": "display_data"
    }
   ],
   "source": [
    "pima_df.hist(figsize=(10,10))"
   ]
  },
  {
   "cell_type": "code",
   "execution_count": 6,
   "metadata": {
    "scrolled": true
   },
   "outputs": [
    {
     "data": {
      "text/plain": [
       "array([[<matplotlib.axes._subplots.AxesSubplot object at 0x000001D257BE87F0>,\n",
       "        <matplotlib.axes._subplots.AxesSubplot object at 0x000001D25A5DFF28>,\n",
       "        <matplotlib.axes._subplots.AxesSubplot object at 0x000001D25AF94DD8>,\n",
       "        <matplotlib.axes._subplots.AxesSubplot object at 0x000001D25AFB0278>,\n",
       "        <matplotlib.axes._subplots.AxesSubplot object at 0x000001D25B1576D8>],\n",
       "       [<matplotlib.axes._subplots.AxesSubplot object at 0x000001D25B180B38>,\n",
       "        <matplotlib.axes._subplots.AxesSubplot object at 0x000001D25B1A7F98>,\n",
       "        <matplotlib.axes._subplots.AxesSubplot object at 0x000001D25B1D8470>,\n",
       "        <matplotlib.axes._subplots.AxesSubplot object at 0x000001D25B1D84A8>,\n",
       "        <matplotlib.axes._subplots.AxesSubplot object at 0x000001D25B229CF8>],\n",
       "       [<matplotlib.axes._subplots.AxesSubplot object at 0x000001D25B25B198>,\n",
       "        <matplotlib.axes._subplots.AxesSubplot object at 0x000001D25B2845F8>,\n",
       "        <matplotlib.axes._subplots.AxesSubplot object at 0x000001D25B2A9A58>,\n",
       "        <matplotlib.axes._subplots.AxesSubplot object at 0x000001D25B2D4E80>,\n",
       "        <matplotlib.axes._subplots.AxesSubplot object at 0x000001D25B305320>],\n",
       "       [<matplotlib.axes._subplots.AxesSubplot object at 0x000001D25B32C780>,\n",
       "        <matplotlib.axes._subplots.AxesSubplot object at 0x000001D25B356BE0>,\n",
       "        <matplotlib.axes._subplots.AxesSubplot object at 0x000001D25B388080>,\n",
       "        <matplotlib.axes._subplots.AxesSubplot object at 0x000001D25B3B14E0>,\n",
       "        <matplotlib.axes._subplots.AxesSubplot object at 0x000001D25B3D8940>],\n",
       "       [<matplotlib.axes._subplots.AxesSubplot object at 0x000001D25B401DA0>,\n",
       "        <matplotlib.axes._subplots.AxesSubplot object at 0x000001D25B432240>,\n",
       "        <matplotlib.axes._subplots.AxesSubplot object at 0x000001D25B45B6A0>,\n",
       "        <matplotlib.axes._subplots.AxesSubplot object at 0x000001D25B482B00>,\n",
       "        <matplotlib.axes._subplots.AxesSubplot object at 0x000001D25B4ABF60>],\n",
       "       [<matplotlib.axes._subplots.AxesSubplot object at 0x000001D25B4DC400>,\n",
       "        <matplotlib.axes._subplots.AxesSubplot object at 0x000001D25B503860>,\n",
       "        <matplotlib.axes._subplots.AxesSubplot object at 0x000001D25B52ADD8>,\n",
       "        <matplotlib.axes._subplots.AxesSubplot object at 0x000001D25B55D390>,\n",
       "        <matplotlib.axes._subplots.AxesSubplot object at 0x000001D25B584908>]],\n",
       "      dtype=object)"
      ]
     },
     "execution_count": 6,
     "metadata": {},
     "output_type": "execute_result"
    },
    {
     "data": {
      "image/png": "[encoded data removed]",
      "text/plain": [
       "<Figure size 720x720 with 30 Axes>"
      ]
     },
     "metadata": {
      "needs_background": "light"
     },
     "output_type": "display_data"
    }
   ],
   "source": [
    "pima_df.hist(figsize=(10,10), sharex=True)"
   ]
  },
  {
   "cell_type": "code",
   "execution_count": 7,
   "metadata": {},
   "outputs": [
    {
     "data": {
      "text/plain": [
       "0    1910.0\n",
       "1    1898.0\n",
       "2    1910.0\n",
       "3    1900.0\n",
       "4    1913.0\n",
       "Name: AYB, dtype: float64"
      ]
     },
     "execution_count": 7,
     "metadata": {},
     "output_type": "execute_result"
    }
   ],
   "source": [
    "pima_df['AYB'].head()"
   ]
  },
  {
   "cell_type": "code",
   "execution_count": 8,
   "metadata": {},
   "outputs": [
    {
     "data": {
      "text/plain": [
       "0    4\n",
       "1    3\n",
       "2    3\n",
       "3    3\n",
       "4    2\n",
       "Name: BATHRM, dtype: int64"
      ]
     },
     "execution_count": 8,
     "metadata": {},
     "output_type": "execute_result"
    }
   ],
   "source": [
    "pima_df['BATHRM'].head()"
   ]
  },
  {
   "cell_type": "code",
   "execution_count": 9,
   "metadata": {},
   "outputs": [
    {
     "data": {
      "text/plain": [
       "0    4\n",
       "1    5\n",
       "2    5\n",
       "3    5\n",
       "4    3\n",
       "Name: BEDRM, dtype: int64"
      ]
     },
     "execution_count": 9,
     "metadata": {},
     "output_type": "execute_result"
    }
   ],
   "source": [
    "pima_df['BEDRM'].head()"
   ]
  },
  {
   "cell_type": "code",
   "execution_count": 10,
   "metadata": {},
   "outputs": [
    {
     "data": {
      "text/plain": [
       "0    1\n",
       "1    1\n",
       "2    1\n",
       "3    1\n",
       "4    1\n",
       "Name: BLDG_NUM, dtype: int64"
      ]
     },
     "execution_count": 10,
     "metadata": {},
     "output_type": "execute_result"
    }
   ],
   "source": [
    "pima_df['BLDG_NUM'].head()"
   ]
  },
  {
   "cell_type": "code",
   "execution_count": 11,
   "metadata": {},
   "outputs": [
    {
     "data": {
      "text/plain": [
       "0    4201.0\n",
       "1    4201.0\n",
       "2    4201.0\n",
       "3    4201.0\n",
       "4    4201.0\n",
       "Name: CENSUS_TRACT, dtype: float64"
      ]
     },
     "execution_count": 11,
     "metadata": {},
     "output_type": "execute_result"
    }
   ],
   "source": [
    "pima_df['CENSUS_TRACT'].head()"
   ]
  },
  {
   "cell_type": "code",
   "execution_count": 12,
   "metadata": {},
   "outputs": [
    {
     "data": {
      "text/plain": [
       "0    38.914680\n",
       "1    38.914683\n",
       "2    38.914684\n",
       "3    38.914683\n",
       "4    38.914383\n",
       "Name: LATITUDE, dtype: float64"
      ]
     },
     "execution_count": 12,
     "metadata": {},
     "output_type": "execute_result"
    }
   ],
   "source": [
    "pima_df['LATITUDE'].head()"
   ]
  },
  {
   "cell_type": "code",
   "execution_count": 13,
   "metadata": {},
   "outputs": [
    {
     "data": {
      "text/plain": [
       "0   -77.040832\n",
       "1   -77.040764\n",
       "2   -77.040678\n",
       "3   -77.040629\n",
       "4   -77.039361\n",
       "Name: LONGITUDE, dtype: float64"
      ]
     },
     "execution_count": 13,
     "metadata": {},
     "output_type": "execute_result"
    }
   ],
   "source": [
    "pima_df['LONGITUDE'].head()"
   ]
  },
  {
   "cell_type": "code",
   "execution_count": 14,
   "metadata": {},
   "outputs": [
    {
     "data": {
      "text/plain": [
       "0    2.0\n",
       "1    2.0\n",
       "2    2.0\n",
       "3    2.0\n",
       "4    1.0\n",
       "Name: NUM_UNITS, dtype: float64"
      ]
     },
     "execution_count": 14,
     "metadata": {},
     "output_type": "execute_result"
    }
   ],
   "source": [
    "pima_df['NUM_UNITS'].head()"
   ]
  },
  {
   "cell_type": "code",
   "execution_count": 15,
   "metadata": {},
   "outputs": [
    {
     "data": {
      "text/plain": [
       "0    1095000.0\n",
       "1          NaN\n",
       "2    2100000.0\n",
       "3    1602000.0\n",
       "4          NaN\n",
       "Name: PRICE, dtype: float64"
      ]
     },
     "execution_count": 15,
     "metadata": {},
     "output_type": "execute_result"
    }
   ],
   "source": [
    "pima_df['PRICE'].head()"
   ]
  },
  {
   "cell_type": "code",
   "execution_count": 16,
   "metadata": {},
   "outputs": [
    {
     "data": {
      "text/plain": [
       "0     8\n",
       "1    11\n",
       "2     9\n",
       "3     8\n",
       "4    11\n",
       "Name: ROOMS, dtype: int64"
      ]
     },
     "execution_count": 16,
     "metadata": {},
     "output_type": "execute_result"
    }
   ],
   "source": [
    "pima_df['ROOMS'].head()"
   ]
  },
  {
   "cell_type": "code",
   "execution_count": 17,
   "metadata": {},
   "outputs": [
    {
     "data": {
      "text/plain": [
       "0    20009.0\n",
       "1    20009.0\n",
       "2    20009.0\n",
       "3    20009.0\n",
       "4    20009.0\n",
       "Name: ZIPCODE, dtype: float64"
      ]
     },
     "execution_count": 17,
     "metadata": {},
     "output_type": "execute_result"
    }
   ],
   "source": [
    "pima_df['ZIPCODE'].head()"
   ]
  },
  {
   "cell_type": "code",
   "execution_count": 18,
   "metadata": {},
   "outputs": [
    {
     "data": {
      "text/plain": [
       "(1941.987579244546, 33.64023357603095)"
      ]
     },
     "execution_count": 18,
     "metadata": {},
     "output_type": "execute_result"
    }
   ],
   "source": [
    "#Method 1: manual calculation of z-scores for 'Glucose' column\n",
    "\n",
    "#mean for the column\n",
    "mean = pima_df['AYB'].mean()\n",
    "\n",
    "#standard deviation of the column\n",
    "std = pima_df['AYB'].std()\n",
    "\n",
    "#each value in column minus the mean and then divide by the standard deviation\n",
    "glucose_z_manual = (pima_df['AYB'] - mean)/std\n",
    "mean, std\n"
   ]
  },
  {
   "cell_type": "code",
   "execution_count": null,
   "metadata": {},
   "outputs": [],
   "source": []
  },
  {
   "cell_type": "code",
   "execution_count": 19,
   "metadata": {},
   "outputs": [
    {
     "data": {
      "text/plain": [
       "0    2.242248\n",
       "1    1.218073\n",
       "2    1.218073\n",
       "3    1.218073\n",
       "4    0.193898\n",
       "Name: BATHRM, dtype: float64"
      ]
     },
     "execution_count": 19,
     "metadata": {},
     "output_type": "execute_result"
    }
   ],
   "source": [
    "#Method 1: manual calculation of z-scores for 'Glucose' column\n",
    "\n",
    "#mean for the column\n",
    "mean = pima_df['BATHRM'].mean()\n",
    "\n",
    "#standard deviation of the column\n",
    "std = pima_df['BATHRM'].std()\n",
    "\n",
    "#each value in column minus the mean and then divide by the standard deviation\n",
    "glucose_z_manual = (pima_df['BATHRM'] - mean)/std\n",
    "mean, std\n",
    "glucose_z_manual.head()"
   ]
  },
  {
   "cell_type": "code",
   "execution_count": 20,
   "metadata": {},
   "outputs": [
    {
     "data": {
      "text/plain": [
       "(2.7325062752819944, 1.3588642440202134)"
      ]
     },
     "execution_count": 20,
     "metadata": {},
     "output_type": "execute_result"
    }
   ],
   "source": [
    "#Method 1: manual calculation of z-scores for 'Glucose' column\n",
    "\n",
    "#mean for the column\n",
    "mean = pima_df['BEDRM'].mean()\n",
    "\n",
    "#standard deviation of the column\n",
    "std = pima_df['BEDRM'].std()\n",
    "\n",
    "#each value in column minus the mean and then divide by the standard deviation\n",
    "glucose_z_manual = (pima_df['BEDRM'] - mean)/std\n",
    "mean, std"
   ]
  },
  {
   "cell_type": "code",
   "execution_count": 21,
   "metadata": {},
   "outputs": [
    {
     "data": {
      "text/plain": [
       "(1.0005976459042383, 0.03162150570868554)"
      ]
     },
     "execution_count": 21,
     "metadata": {},
     "output_type": "execute_result"
    }
   ],
   "source": [
    "#Method 1: manual calculation of z-scores for 'Glucose' column\n",
    "\n",
    "#mean for the column\n",
    "mean = pima_df['BLDG_NUM'].mean()\n",
    "\n",
    "#standard deviation of the column\n",
    "std = pima_df['BLDG_NUM'].std()\n",
    "\n",
    "#each value in column minus the mean and then divide by the standard deviation\n",
    "glucose_z_manual = (pima_df['BLDG_NUM'] - mean)/std\n",
    "mean, std"
   ]
  },
  {
   "cell_type": "code",
   "execution_count": 22,
   "metadata": {},
   "outputs": [
    {
     "data": {
      "text/plain": [
       "(5348.216324014193, 3369.645953218643)"
      ]
     },
     "execution_count": 22,
     "metadata": {},
     "output_type": "execute_result"
    }
   ],
   "source": [
    "#Method 1: manual calculation of z-scores for 'Glucose' column\n",
    "\n",
    "#mean for the column\n",
    "mean = pima_df['CENSUS_TRACT'].mean()\n",
    "\n",
    "#standard deviation of the column\n",
    "std = pima_df['CENSUS_TRACT'].std()\n",
    "\n",
    "#each value in column minus the mean and then divide by the standard deviation\n",
    "glucose_z_manual = (pima_df['CENSUS_TRACT'] - mean)/std\n",
    "mean, std"
   ]
  },
  {
   "cell_type": "code",
   "execution_count": 23,
   "metadata": {},
   "outputs": [],
   "source": [
    "#Method 1: manual calculation of z-scores for 'Glucose' column\n",
    "\n",
    "#mean for the column\n",
    "mean = pima_df['LATITUDE'].mean()\n",
    "\n",
    "#standard deviation of the column\n",
    "std = pima_df['LATITUDE'].std()\n",
    "\n",
    "#each value in column minus the mean and then divide by the standard deviation\n",
    "glucose_z_manual = (pima_df['LATITUDE'] - mean)/std"
   ]
  },
  {
   "cell_type": "code",
   "execution_count": 24,
   "metadata": {},
   "outputs": [
    {
     "data": {
      "text/plain": [
       "(-77.01667631763974, 0.04093841015569089)"
      ]
     },
     "execution_count": 24,
     "metadata": {},
     "output_type": "execute_result"
    }
   ],
   "source": [
    "#Method 1: manual calculation of z-scores for 'Glucose' column\n",
    "\n",
    "#mean for the column\n",
    "mean = pima_df['LONGITUDE'].mean()\n",
    "\n",
    "#standard deviation of the column\n",
    "std = pima_df['LONGITUDE'].std()\n",
    "\n",
    "#each value in column minus the mean and then divide by the standard deviation\n",
    "glucose_z_manual = (pima_df['LONGITUDE'] - mean)/std\n",
    "mean, std"
   ]
  },
  {
   "cell_type": "code",
   "execution_count": 25,
   "metadata": {},
   "outputs": [],
   "source": [
    "#Method 1: manual calculation of z-scores for 'Glucose' column\n",
    "\n",
    "#mean for the column\n",
    "mean = pima_df['NUM_UNITS'].mean()\n",
    "\n",
    "#standard deviation of the column\n",
    "std = pima_df['NUM_UNITS'].std()\n",
    "\n",
    "#each value in column minus the mean and then divide by the standard deviation\n",
    "glucose_z_manual = (pima_df['NUM_UNITS'] - mean)/std"
   ]
  },
  {
   "cell_type": "code",
   "execution_count": 26,
   "metadata": {},
   "outputs": [
    {
     "data": {
      "text/plain": [
       "(931351.5949336156, 7061324.955612032)"
      ]
     },
     "execution_count": 26,
     "metadata": {},
     "output_type": "execute_result"
    }
   ],
   "source": [
    "#Method 1: manual calculation of z-scores for 'Glucose' column\n",
    "\n",
    "#mean for the column\n",
    "mean = pima_df['PRICE'].mean()\n",
    "\n",
    "#standard deviation of the column\n",
    "std = pima_df['PRICE'].std()\n",
    "\n",
    "#each value in column minus the mean and then divide by the standard deviation\n",
    "glucose_z_manual = (pima_df['PRICE'] - mean)/std\n",
    "mean, std"
   ]
  },
  {
   "cell_type": "code",
   "execution_count": 27,
   "metadata": {},
   "outputs": [
    {
     "data": {
      "text/plain": [
       "(6.187736306045031, 2.618164876300674)"
      ]
     },
     "execution_count": 27,
     "metadata": {},
     "output_type": "execute_result"
    }
   ],
   "source": [
    "#Method 1: manual calculation of z-scores for 'Glucose' column\n",
    "\n",
    "#mean for the column\n",
    "mean = pima_df['ROOMS'].mean()\n",
    "\n",
    "#standard deviation of the column\n",
    "std = pima_df['ROOMS'].std()\n",
    "\n",
    "#each value in column minus the mean and then divide by the standard deviation\n",
    "glucose_z_manual = (pima_df['ROOMS'] - mean)/std\n",
    "mean, std"
   ]
  },
  {
   "cell_type": "code",
   "execution_count": 28,
   "metadata": {},
   "outputs": [
    {
     "data": {
      "text/plain": [
       "(20012.69456327537, 15.627084414654448)"
      ]
     },
     "execution_count": 28,
     "metadata": {},
     "output_type": "execute_result"
    }
   ],
   "source": [
    "#Method 1: manual calculation of z-scores for 'Glucose' column\n",
    "\n",
    "#mean for the column\n",
    "mean = pima_df['ZIPCODE'].mean()\n",
    "\n",
    "#standard deviation of the column\n",
    "std = pima_df['ZIPCODE'].std()\n",
    "\n",
    "#each value in column minus the mean and then divide by the standard deviation\n",
    "glucose_z_manual = (pima_df['ZIPCODE'] - mean)/std\n",
    "mean, std"
   ]
  },
  {
   "cell_type": "code",
   "execution_count": 29,
   "metadata": {},
   "outputs": [],
   "source": [
    "minmax_sc = MinMaxScaler()"
   ]
  },
  {
   "cell_type": "code",
   "execution_count": 30,
   "metadata": {},
   "outputs": [
    {
     "name": "stderr",
     "output_type": "stream",
     "text": [
      "C:\\Users\\kenbe\\Anaconda3\\lib\\site-packages\\sklearn\\preprocessing\\data.py:323: DataConversionWarning: Data with input dtype int64 were all converted to float64 by MinMaxScaler.\n",
      "  return self.partial_fit(X, y)\n"
     ]
    }
   ],
   "source": [
    "glucose_minmax = minmax_sc.fit_transform(pima_df[['BATHRM']])"
   ]
  },
  {
   "cell_type": "code",
   "execution_count": 31,
   "metadata": {},
   "outputs": [
    {
     "data": {
      "text/plain": [
       "(0.12933416853973986, 0.06974234911947641)"
      ]
     },
     "execution_count": 31,
     "metadata": {},
     "output_type": "execute_result"
    }
   ],
   "source": [
    "glucose_minmax.mean(), glucose_minmax.std()"
   ]
  },
  {
   "cell_type": "code",
   "execution_count": 32,
   "metadata": {},
   "outputs": [
    {
     "data": {
      "text/plain": [
       "0    0.285714\n",
       "1    0.214286\n",
       "2    0.214286\n",
       "3    0.214286\n",
       "4    0.142857\n",
       "dtype: float64"
      ]
     },
     "execution_count": 32,
     "metadata": {},
     "output_type": "execute_result"
    }
   ],
   "source": [
    "glu_mm_col = pd.Series(glucose_minmax.reshape(-1))\n",
    "glu_mm_col.head()"
   ]
  },
  {
   "cell_type": "code",
   "execution_count": 33,
   "metadata": {},
   "outputs": [
    {
     "data": {
      "text/plain": [
       "(0.0, 1.0)"
      ]
     },
     "execution_count": 33,
     "metadata": {},
     "output_type": "execute_result"
    }
   ],
   "source": [
    "glu_mm_col.min(), glu_mm_col.max()"
   ]
  },
  {
   "cell_type": "code",
   "execution_count": 34,
   "metadata": {},
   "outputs": [
    {
     "data": {
      "text/plain": [
       "<matplotlib.axes._subplots.AxesSubplot at 0x1d25ba4e9e8>"
      ]
     },
     "execution_count": 34,
     "metadata": {},
     "output_type": "execute_result"
    },
    {
     "data": {
      "image/png": "[encoded data removed]",
      "text/plain": [
       "<Figure size 432x288 with 1 Axes>"
      ]
     },
     "metadata": {
      "needs_background": "light"
     },
     "output_type": "display_data"
    }
   ],
   "source": [
    "glu_mm_col.hist()"
   ]
  },
  {
   "cell_type": "code",
   "execution_count": null,
   "metadata": {},
   "outputs": [],
   "source": [
    "# I couldn't figure out how to change the scale of the graph above"
   ]
  }
 ],
 "metadata": {
  "kernelspec": {
   "display_name": "Python 3",
   "language": "python",
   "name": "python3"
  },
  "language_info": {
   "codemirror_mode": {
    "name": "ipython",
    "version": 3
   },
   "file_extension": ".py",
   "mimetype": "text/x-python",
   "name": "python",
   "nbconvert_exporter": "python",
   "pygments_lexer": "ipython3",
   "version": "3.7.1"
  }
 },
 "nbformat": 4,
 "nbformat_minor": 2
}
